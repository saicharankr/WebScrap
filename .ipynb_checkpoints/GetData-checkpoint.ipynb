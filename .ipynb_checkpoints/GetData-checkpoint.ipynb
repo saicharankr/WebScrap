{
 "cells": [
  {
   "cell_type": "code",
   "execution_count": 42,
   "metadata": {},
   "outputs": [
    {
     "ename": "NameError",
     "evalue": "name '__file__' is not defined",
     "output_type": "error",
     "traceback": [
      "\u001b[1;31m---------------------------------------------------------------------------\u001b[0m",
      "\u001b[1;31mNameError\u001b[0m                                 Traceback (most recent call last)",
      "\u001b[1;32m<ipython-input-42-26851efb0f09>\u001b[0m in \u001b[0;36m<module>\u001b[1;34m()\u001b[0m\n\u001b[0;32m      2\u001b[0m \u001b[1;32mimport\u001b[0m \u001b[0mrequests\u001b[0m\u001b[1;33m\u001b[0m\u001b[0m\n\u001b[0;32m      3\u001b[0m \u001b[1;32mimport\u001b[0m \u001b[0mos\u001b[0m\u001b[1;33m\u001b[0m\u001b[0m\n\u001b[1;32m----> 4\u001b[1;33m \u001b[0mdirname\u001b[0m \u001b[1;33m=\u001b[0m \u001b[0mos\u001b[0m\u001b[1;33m.\u001b[0m\u001b[0mpath\u001b[0m\u001b[1;33m.\u001b[0m\u001b[0mdirname\u001b[0m\u001b[1;33m(\u001b[0m\u001b[0m__file__\u001b[0m\u001b[1;33m)\u001b[0m\u001b[1;33m\u001b[0m\u001b[0m\n\u001b[0m",
      "\u001b[1;31mNameError\u001b[0m: name '__file__' is not defined"
     ]
    }
   ],
   "source": [
    "from bs4 import BeautifulSoup\n",
    "import requests"
   ]
  },
  {
   "cell_type": "code",
   "execution_count": null,
   "metadata": {},
   "outputs": [],
   "source": [
    "url=requests.get(\"https://www.worldometers.info/coronavirus/\")"
   ]
  },
  {
   "cell_type": "code",
   "execution_count": 41,
   "metadata": {},
   "outputs": [],
   "source": [
    "soup =BeautifulSoup(url.content)"
   ]
  },
  {
   "cell_type": "code",
   "execution_count": 30,
   "metadata": {},
   "outputs": [],
   "source": [
    "table=soup.find(\"table\", attrs={'id' : 'main_table_countries_today'})"
   ]
  },
  {
   "cell_type": "code",
   "execution_count": 31,
   "metadata": {},
   "outputs": [],
   "source": [
    "rows=table.tbody.findAll('tr')\n",
    "countries=[]\n",
    "Old_cases=[]\n",
    "New_cases=[]\n",
    "Old_Deaths=[]\n",
    "New_Deaths=[]\n",
    "Total_recovered=[]\n",
    "Active_cases=[]"
   ]
  },
  {
   "cell_type": "code",
   "execution_count": 32,
   "metadata": {},
   "outputs": [],
   "source": [
    "for row in rows:\n",
    "    country = row.findAll('td')[0].text\n",
    "    Old_case = row.findAll('td')[1].text\n",
    "    New_case = row.findAll('td')[2].text\n",
    "    Old_Death = row.findAll('td')[3].text\n",
    "    New_Death = row.findAll('td')[4].text\n",
    "    recovered = row.findAll('td')[5].text\n",
    "    Active_case = row.findAll('td')[6].text\n",
    "    countries.append(country)\n",
    "    Old_cases.append(Old_case)\n",
    "    New_cases.append(New_case)\n",
    "    Old_Deaths.append(Old_Death)\n",
    "    New_Deaths.append(New_Death)\n",
    "    Total_recovered.append(recovered)\n",
    "    Active_cases.append(Active_case)"
   ]
  },
  {
   "cell_type": "code",
   "execution_count": 33,
   "metadata": {},
   "outputs": [],
   "source": [
    "import pandas as pd\n",
    "\n",
    "df = pd.DataFrame({'countries':countries,'Old_cases': Old_cases,'New_cases':New_cases,'Old_Deaths':Old_Deaths,'New_Deaths':New_Deaths,'Total_recovered':Total_recovered,'Active_cases':Active_cases})\n"
   ]
  },
  {
   "cell_type": "code",
   "execution_count": null,
   "metadata": {},
   "outputs": [],
   "source": []
  },
  {
   "cell_type": "code",
   "execution_count": 34,
   "metadata": {},
   "outputs": [],
   "source": [
    "df['New_cases'].replace(regex=True,inplace=True,to_replace=r'\\D',value=r'')\n",
    "df['New_Deaths'].replace(regex=True,inplace=True,to_replace=r'\\D',value=r'')\n",
    "df['Old_cases'].replace(regex=True,inplace=True,to_replace=r'\\D',value=r'')\n",
    "df['Old_Deaths'].replace(regex=True,inplace=True,to_replace=r'\\D',value=r'')\n",
    "df['Total_recovered'].replace(regex=True,inplace=True,to_replace=r'\\D',value=r'')\n",
    "df['Active_cases'].replace(regex=True,inplace=True,to_replace=r'\\D',value=r'')\n",
    "df['New_cases']= pd.to_numeric(df['New_cases'])\n",
    "df['Old_cases']= pd.to_numeric(df['Old_cases'])\n",
    "df['New_Deaths']= pd.to_numeric(df['New_Deaths'])\n",
    "df['Old_Deaths']= pd.to_numeric(df['Old_Deaths'])\n",
    "df['Total_recovered']= pd.to_numeric(df['Total_recovered'])\n",
    "df['Active_cases']= pd.to_numeric(df['Active_cases'])\n"
   ]
  },
  {
   "cell_type": "code",
   "execution_count": 35,
   "metadata": {},
   "outputs": [],
   "source": [
    "newdf=df.fillna(0)\n",
    "newdf.index.name = 'Sl_No'"
   ]
  },
  {
   "cell_type": "code",
   "execution_count": 36,
   "metadata": {},
   "outputs": [],
   "source": [
    "newdf['Total_cases']=newdf['Old_cases'] + newdf['New_cases']\n",
    "newdf['Total_Deaths']=newdf['Old_Deaths'] + newdf['New_Deaths']"
   ]
  },
  {
   "cell_type": "code",
   "execution_count": null,
   "metadata": {},
   "outputs": [],
   "source": []
  },
  {
   "cell_type": "code",
   "execution_count": 37,
   "metadata": {},
   "outputs": [],
   "source": [
    "Data=newdf[['countries','Total_cases','Total_Deaths','Total_recovered','Active_cases']]"
   ]
  },
  {
   "cell_type": "code",
   "execution_count": 38,
   "metadata": {},
   "outputs": [],
   "source": [
    "Data.to_json('../Data.json',orient='records')"
   ]
  },
  {
   "cell_type": "code",
   "execution_count": 39,
   "metadata": {},
   "outputs": [],
   "source": [
    "html_file = open('../Chart.html', 'r')\n",
    "html_content = html_file.read()\n",
    "replacecont=html_content\n",
    "json_file = open('../Data.json'),'r')\n",
    "json_content = json_file.read( )\n",
    "newrec=replacecont.replace('record',json_content)\n",
    "new_html=open('../Chart2.html'), 'w')\n",
    "new_html.write(newrec)\n",
    "new_html.close()\n",
    "html_file.close() # clean up\n",
    "\n",
    "# Initialize the BS object\n",
    "#soup  = BeautifulSoup(html_content,'html.parser') "
   ]
  },
  {
   "cell_type": "code",
   "execution_count": null,
   "metadata": {},
   "outputs": [],
   "source": []
  },
  {
   "cell_type": "code",
   "execution_count": null,
   "metadata": {},
   "outputs": [],
   "source": []
  }
 ],
 "metadata": {
  "kernelspec": {
   "display_name": "Python 3",
   "language": "python",
   "name": "python3"
  },
  "language_info": {
   "codemirror_mode": {
    "name": "ipython",
    "version": 3
   },
   "file_extension": ".py",
   "mimetype": "text/x-python",
   "name": "python",
   "nbconvert_exporter": "python",
   "pygments_lexer": "ipython3",
   "version": "3.7.0"
  }
 },
 "nbformat": 4,
 "nbformat_minor": 2
}
